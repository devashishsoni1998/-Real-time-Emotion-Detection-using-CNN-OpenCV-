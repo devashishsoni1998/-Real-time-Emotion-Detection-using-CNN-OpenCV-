{
 "cells": [
  {
   "cell_type": "markdown",
   "id": "375f5bbd",
   "metadata": {},
   "source": [
    "<div style=\"border-radius: 10px;\n",
    "            border: 5px solid #b3e0f2; /* Border color - Lighter sky blue */\n",
    "            padding: 20px;\n",
    "            color: #2c3e50; /* Dark grey text color */\n",
    "            margin: 20px; /* Spacing around the div */\n",
    "            font-size: 32px; /* Font size */\n",
    "            font-family: 'Times New Roman', Times, serif; /* Times New Roman font family */\n",
    "            text-align: center;\n",
    "            display: block;\n",
    "            background: linear-gradient(to right, #d9efff, #b3e0f2); /* Gradient background - Lighter sky blue to darker sky blue */\n",
    "            overflow: hidden;\n",
    "            box-shadow: 0 8px 16px rgba(0, 0, 0, 0.5); /* Soft shadow at the bottom */\n",
    "            \">\n",
    "    <span style=\"font-size: 36px; margin-right: 10px;\">🎭</span> <!-- Happy face emoji -->\n",
    "    <b>LiveMood: Real-Time Facial Emotion Monitoring</b>\n",
    "    <span style=\"font-size: 36px; margin-left: 10px;\">🎭</span> <!-- Sad face emoji -->\n",
    "</div>\n"
   ]
  },
  {
   "cell_type": "markdown",
   "id": "bbf175eb",
   "metadata": {},
   "source": [
    "\n",
    "<div style=\"text-align: center;\">\n",
    "<img src=\"c7fcb86c8572502ad00a213a54b96f92--mona-lisa-golden-ratio.jpg\">"
   ]
  },
  {
   "cell_type": "markdown",
   "id": "f9e41d13",
   "metadata": {},
   "source": [
    "<div style=\"border-radius: 10px;\n",
    "            border: 5px solid #b3e0f2; /* Border color - Lighter sky blue */\n",
    "            padding: 20px;\n",
    "            color: #2c3e50; /* Dark grey text color */\n",
    "            margin: 20px; /* Spacing around the div */\n",
    "            font-size: 32px; /* Font size */\n",
    "            font-family: 'Times New Roman', Times, serif; /* Times New Roman font family */\n",
    "            text-align: center;\n",
    "            display: block;\n",
    "            background: linear-gradient(to right, #d9efff, #b3e0f2); /* Gradient background - Lighter sky blue to darker sky blue */\n",
    "            overflow: hidden;\n",
    "            box-shadow: 0 8px 16px rgba(0, 0, 0, 0.5); /* Soft shadow at the bottom */\n",
    "            \">\n",
    "    <span style=\"font-size: 36px; margin-right: 10px;\">🎭</span> <!-- Happy face emoji -->\n",
    "    <b>Problem Statement</b>\n",
    "    <span style=\"font-size: 36px; margin-left: 10px;\">🎭</span> <!-- Sad face emoji -->\n",
    "</div>\n"
   ]
  },
  {
   "cell_type": "markdown",
   "id": "9953bf80",
   "metadata": {},
   "source": [
    "\"Developing a real-time facial emotion detection system to accurately identify and classify human emotions such as happiness, sadness, and neutrality from live video feeds or uploaded images. The system will utilize deep learning techniques and computer vision algorithms to analyze facial expressions, providing valuable insights for applications in human-computer interaction, emotion-driven marketing, and mental health monitoring.\""
   ]
  },
  {
   "cell_type": "markdown",
   "id": "ef86fa58",
   "metadata": {},
   "source": [
    "<div style=\"border-radius: 10px;\n",
    "            border: 5px solid #b3e0f2; /* Border color - Lighter sky blue */\n",
    "            padding: 20px;\n",
    "            color: #2c3e50; /* Dark grey text color */\n",
    "            margin: 20px; /* Spacing around the div */\n",
    "            font-size: 32px; /* Font size */\n",
    "            font-family: 'Times New Roman', Times, serif; /* Times New Roman font family */\n",
    "            text-align: center;\n",
    "            display: block;\n",
    "            background: linear-gradient(to right, #d9efff, #b3e0f2); /* Gradient background - Lighter sky blue to darker sky blue */\n",
    "            overflow: hidden;\n",
    "            box-shadow: 0 8px 16px rgba(0, 0, 0, 0.5); /* Soft shadow at the bottom */\n",
    "            \">\n",
    "    <span style=\"font-size: 36px; margin-right: 10px;\">🎭</span> <!-- Happy face emoji -->\n",
    "    <b>Objectives</b>\n",
    "    <span style=\"font-size: 36px; margin-left: 10px;\">🎭</span> <!-- Sad face emoji -->\n",
    "</div>\n"
   ]
  },
  {
   "cell_type": "markdown",
   "id": "a1c7f0d1",
   "metadata": {},
   "source": [
    "1. Develop a CNN model using transfer learning to predict emotions from facial images.\n",
    "2. Achieve high accuracy in classifying different emotions.\n",
    "3. Integrate OpenCV to enable real-time emotion recognition through a camera feed.\n",
    "4. Provide an option for users to upload images for emotion prediction.\n",
    "5. Deploy the model to make predictions accessible and actionable"
   ]
  },
  {
   "cell_type": "markdown",
   "id": "5101cd56",
   "metadata": {},
   "source": [
    "<div style=\"border-radius: 10px;\n",
    "            border: 5px solid #b3e0f2; /* Border color - Lighter sky blue */\n",
    "            padding: 20px;\n",
    "            color: #2c3e50; /* Dark grey text color */\n",
    "            margin: 20px; /* Spacing around the div */\n",
    "            font-size: 32px; /* Font size */\n",
    "            font-family: 'Times New Roman', Times, serif; /* Times New Roman font family */\n",
    "            text-align: center;\n",
    "            display: block;\n",
    "            background: linear-gradient(to right, #d9efff, #b3e0f2); /* Gradient background - Lighter sky blue to darker sky blue */\n",
    "            overflow: hidden;\n",
    "            box-shadow: 0 8px 16px rgba(0, 0, 0, 0.5); /* Soft shadow at the bottom */\n",
    "            \">\n",
    "    <span style=\"font-size: 36px; margin-right: 10px;\">🎭</span> <!-- Happy face emoji -->\n",
    "    <b>Synopsis</b>\n",
    "    <span style=\"font-size: 36px; margin-left: 10px;\">🎭</span> <!-- Sad face emoji -->\n",
    "</div>"
   ]
  },
  {
   "cell_type": "markdown",
   "id": "b46dd672",
   "metadata": {},
   "source": [
    "In today's digital era, understanding human emotions from facial expressions has become increasingly valuable across various domains. Our project focuses on developing an advanced real-time facial emotion detection system using deep learning models and computer vision techniques. By analyzing live video streams or uploaded images, the system accurately identifies emotions. This technology aims to enhance human-computer interaction, optimize emotion-driven marketing strategies, and provide valuable insights for mental health monitoring applications."
   ]
  },
  {
   "cell_type": "markdown",
   "id": "78c9aa07",
   "metadata": {},
   "source": [
    "<a id=\"1\"></a>\n",
    "# <div style=\"padding:20px;color:white;margin:0;font-size:35px;font-family:Times New Roman;text-align:center;display:fill;border-radius:5px;background-color:#254E58;overflow:hidden\"><b> 📝 Project Contents 📝</b></div>"
   ]
  },
  {
   "cell_type": "markdown",
   "id": "d299683b",
   "metadata": {},
   "source": [
    "\n",
    "<h3 align=\"left\"><font color=purple>📊 Table of Contents:</font></h3><br>\n",
    "    \n",
    "    \n",
    "1. <b>Libraries Used</b>\n",
    "2. <b>Visualization of emotion distribution</b>\n",
    "3. <b>CNN Model Architecture :</b>\n",
    "4. <b>Data Preparation and Preprocessing for CNN</b>\n",
    "5. <b>Model Training using CNN</b>\n",
    "6. <b>Predicting CNN Model</b>\n",
    "7. <b>Saved CNN Model</b>\n",
    "8. <b>OpenCV (Open Source Computer Vision Library)</b>\n",
    "9. <b>Real-Time Emotion Detection using openCV</b>\n",
    "10. <b>Conclusion</b>\n",
    " "
   ]
  },
  {
   "cell_type": "markdown",
   "id": "97447739",
   "metadata": {},
   "source": [
    "<div style=\"border-radius: 10px;\n",
    "            border: 5px solid #b3e0f2; /* Border color - Lighter sky blue */\n",
    "            padding: 20px;\n",
    "            color: #2c3e50; /* Dark grey text color */\n",
    "            margin: 20px; /* Spacing around the div */\n",
    "            font-size: 32px; /* Font size */\n",
    "            font-family: 'Times New Roman', Times, serif; /* Times New Roman font family */\n",
    "            text-align: center;\n",
    "            display: block;\n",
    "            background: linear-gradient(to right, #d9efff, #b3e0f2); /* Gradient background - Lighter sky blue to darker sky blue */\n",
    "            overflow: hidden;\n",
    "            box-shadow: 0 8px 16px rgba(0, 0, 0, 0.5); /* Soft shadow at the bottom */\n",
    "            \">\n",
    "    <span style=\"font-size: 36px; margin-right: 10px;\">🎭</span> <!-- Happy face emoji -->\n",
    "    <b>Libraries Used</b>\n",
    "    <span style=\"font-size: 36px; margin-left: 10px;\">🎭</span> <!-- Sad face emoji -->\n",
    "</div>"
   ]
  },
  {
   "cell_type": "code",
   "execution_count": null,
   "id": "6562adfe",
   "metadata": {},
   "outputs": [],
   "source": [
    "# Pandas and NumPy Libraries\n",
    "import pandas as pd\n",
    "import numpy as np\n",
    "\n",
    "# Visualization Libraries\n",
    "import seaborn as sns\n",
    "import matplotlib.pyplot as plt\n",
    "from time import sleep\n",
    "\n",
    "# OpenCV and Image Processing Libraries\n",
    "import cv2\n",
    "from skimage import io\n",
    "from PIL import Image\n",
    "\n",
    "# TensorFlow and Keras Libraries\n",
    "import tensorflow as tf\n",
    "from tensorflow.keras import layers, optimizers\n",
    "from tensorflow.keras.applications import DenseNet121, ResNet50\n",
    "from tensorflow.keras.layers import Dense, Input, Conv2D, MaxPooling2D, Flatten, Dropout, BatchNormalization, GlobalMaxPooling2D\n",
    "from tensorflow.keras.optimizers import Adam, SGD, RMSprop\n",
    "from tensorflow.keras.models import Model, load_model, Sequential,model_from_json\n",
    "from tensorflow.keras.utils import plot_model\n",
    "from tensorflow.keras.preprocessing.image import ImageDataGenerator, load_img, img_to_array\n",
    "from tensorflow.keras.callbacks import ModelCheckpoint, EarlyStopping, ReduceLROnPlateau\n",
    "\n",
    "# Display\n",
    "from IPython.display import display\n",
    "from deepface import DeepFace\n",
    "\n",
    "# Scikit-Learn Libraries\n",
    "from sklearn.metrics import confusion_matrix, classification_report\n",
    "from sklearn.preprocessing import StandardScaler, normalize\n",
    "\n",
    "# Miscellaneous Libraries\n",
    "import os\n",
    "import glob\n",
    "import random\n",
    "import warnings\n",
    "warnings.filterwarnings('ignore')\n"
   ]
  },
  {
   "cell_type": "markdown",
   "id": "caa221de",
   "metadata": {},
   "source": [
    "<div style=\"border-radius: 10px;\n",
    "            border: 5px solid #b3e0f2; /* Border color - Lighter sky blue */\n",
    "            padding: 20px;\n",
    "            color: #2c3e50; /* Dark grey text color */\n",
    "            margin: 20px; /* Spacing around the div */\n",
    "            font-size: 32px; /* Font size */\n",
    "            font-family: 'Times New Roman', Times, serif; /* Times New Roman font family */\n",
    "            text-align: center;\n",
    "            display: block;\n",
    "            background: linear-gradient(to right, #d9efff, #b3e0f2); /* Gradient background - Lighter sky blue to darker sky blue */\n",
    "            overflow: hidden;\n",
    "            box-shadow: 0 8px 16px rgba(0, 0, 0, 0.5); /* Soft shadow at the bottom */\n",
    "            \">\n",
    "    <span style=\"font-size: 36px; margin-right: 10px;\">🎭</span> <!-- Happy face emoji -->\n",
    "    <b>Visualization of Emotion Distribution </b>\n",
    "    <span style=\"font-size: 36px; margin-left: 10px;\">🎭</span> <!-- Sad face emoji -->\n",
    "</div>"
   ]
  },
  {
   "cell_type": "code",
   "execution_count": 7,
   "id": "75a44deb",
   "metadata": {},
   "outputs": [],
   "source": [
    "train_generator = (r\"C:\\Users\\ASUS\\OneDrive\\Desktop\\Python\\NN\\new emotions\\images\\train\") \n",
    "validation_data_gen = (r\"C:\\Users\\ASUS\\OneDrive\\Desktop\\Python\\NN\\new emotions\\images\\validation\")   "
   ]
  },
  {
   "cell_type": "code",
   "execution_count": 8,
   "id": "c9ded766",
   "metadata": {},
   "outputs": [],
   "source": [
    "def count_images(directory):\n",
    "    counts = {}\n",
    "    for folder in os.listdir(directory):\n",
    "        folder_path = os.path.join(directory, folder)\n",
    "        if os.path.isdir(folder_path):\n",
    "            counts[folder] = len(os.listdir(folder_path))\n",
    "    return counts\n",
    "\n",
    "train_counts = count_images(train_generator)\n",
    "test_counts = count_images(validation_data_gen)\n",
    "\n",
    "train_counts = dict(sorted(train_counts.items()))\n",
    "test_counts = dict(sorted(test_counts.items()))\n",
    "\n",
    "emotions = list(train_counts.keys())\n",
    "\n",
    "train_values = list(train_counts.values())\n"
   ]
  },
  {
   "cell_type": "code",
   "execution_count": 9,
   "id": "d7df8f5e",
   "metadata": {},
   "outputs": [
    {
     "data": {
      "image/png": "[encoded data removed]",
      "text/plain": [
       "<Figure size 900x500 with 1 Axes>"
      ]
     },
     "metadata": {},
     "output_type": "display_data"
    }
   ],
   "source": [
    "plt.figure(figsize=(9, 5))\n",
    "sns.barplot(x=emotions, y=train_values, palette=\"viridis\")\n",
    "plt.title('Distribution of Emotions in Training Set')\n",
    "plt.xlabel('Emotions')\n",
    "plt.ylabel('Counts')\n",
    "plt.show()"
   ]
  },
  {
   "cell_type": "code",
   "execution_count": 10,
   "id": "72a9c16e",
   "metadata": {},
   "outputs": [
    {
     "data": {
      "image/png": "[encoded data removed]",
      "text/plain": [
       "<Figure size 900x500 with 1 Axes>"
      ]
     },
     "metadata": {},
     "output_type": "display_data"
    }
   ],
   "source": [
    "plt.figure(figsize=(9, 5))\n",
    "explode = [0.03] * len(emotions) \n",
    "plt.pie(train_values, labels=emotions, autopct='%1.1f%%', startangle=140, colors=sns.color_palette(\"Set2\", len(emotions)), explode=explode)\n",
    "plt.title('Proportional Distribution of Emotions in Training Set')\n",
    "plt.axis('equal') \n",
    "plt.show()"
   ]
  },
  {
   "cell_type": "markdown",
   "id": "2b544d23",
   "metadata": {},
   "source": [
    "<div style=\"border-radius: 10px;\n",
    "            border: 5px solid #b3e0f2; /* Border color - Lighter sky blue */\n",
    "            padding: 20px;\n",
    "            color: #2c3e50; /* Dark grey text color */\n",
    "            margin: 20px; /* Spacing around the div */\n",
    "            font-size: 32px; /* Font size */\n",
    "            font-family: 'Times New Roman', Times, serif; /* Times New Roman font family */\n",
    "            text-align: center;\n",
    "            display: block;\n",
    "            background: linear-gradient(to right, #d9efff, #b3e0f2); /* Gradient background - Lighter sky blue to darker sky blue */\n",
    "            overflow: hidden;\n",
    "            box-shadow: 0 8px 16px rgba(0, 0, 0, 0.5); /* Soft shadow at the bottom */\n",
    "            \">\n",
    "    <span style=\"font-size: 36px; margin-right: 10px;\">🎭</span> <!-- Happy face emoji -->\n",
    "    <b>CNN Model Architecture </b>\n",
    "    <span style=\"font-size: 36px; margin-left: 10px;\">🎭</span> <!-- Sad face emoji -->\n",
    "</div>"
   ]
  },
  {
   "cell_type": "markdown",
   "id": "73bd3577-c485-47ea-99ee-48b2ea5e2cae",
   "metadata": {},
   "source": [
    "# Convolutional networks\n",
    "\n",
    "[Convolutional networks](https://en.wikipedia.org/wiki/Convolutional_neural_network) are sparsely connected networks, where each neuron *does not* connect to all neurons in the previous layer. It is the opposite of densely connected networks, such as [MLP](https://en.wikipedia.org/wiki/Multilayer_perceptron).\n",
    "\n",
    "Densely connected networks can only learn global patterns, that is, patterns that involve all points present in a given sample or observation. Convolutional networks, as we will see, are able to learn *local patterns* and recognize these patterns in *any position* of some other sample. In the case of images, these local patterns may correspond to borders, curves, etc.\n",
    "\n",
    "Throughout the network structure, as we advance into deeper layers, simple local patterns are aggregated and become more and more complex. It is a learning structure analogous to that observed in the [visual cortex](https://en.wikipedia.org/wiki/Visual_cortex), the brain portion responsible for the processing of visual information. That is why convolutional networks are so used to process images.\n",
    "\n",
    "Mathematically, the network learns these local patterns through the [convolution](https://en.wikipedia.org/wiki/Convolution) operation, explained below.\n",
    "\n",
    "## Operation of the convolutional network\n",
    "\n",
    "* To feed an image to the network, it is necessary to represent it as a tensor. For example, the following is a representation of puppy image as a three-dimensional tensor of pixels:\n",
    "\n",
    "<div style=\"text-align:center;\">\n",
    "  <img src=\"https://media.springernature.com/original/springer-static/image/chp%3A10.1007%2F978-3-030-47994-7_16/MediaObjects/472738_1_En_16_Fig2_HTML.png\" width=\"600\" height=\"600\" />\n",
    "</div>\n",
    "\n",
    "* In this case, the resulting tensor has a 15x20x3 shape (that is, there are 15 rows, 20 columns and 3 color channels).\n",
    "\n",
    "* Then the image goes through a *convolutional layer*. In this layer, the convolution operation is applied:\n",
    "\n",
    "<div style=\"text-align:center;\">\n",
    "  <img src=\"https://media.springernature.com/original/springer-static/image/chp%3A10.1007%2F978-3-030-47994-7_16/MediaObjects/472738_1_En_16_Fig3_HTML.png\" width=\"500\" height=\"500\" />\n",
    "</div>\n",
    "\n",
    "* In the convolution operation, a *filter* (also called a *kernel*), usually 3x3 (the most common), 5x5 or 7x7, runs through the pixels of an image computing the dot product at each step and storing the results in a matrix called *feature map*.\n",
    "\n",
    "* The feature map gets its name because it is the structure responsible for recognizing the various patterns (features) related to the image. The nature of the recognized pattern depends on the structure of the filter.\n",
    "\n",
    "* When the image has several channels, the feature map resulting from the filter is the sum of the feature maps corresponding to each channel.\n",
    "\n",
    "* The convolutional layer can have several filters, each giving rise to a feature map.\n",
    "\n",
    "* Each element of a feature map corresponds to a neuron. The neurons in the same feature map share the same parameters (weights).\n",
    "\n",
    "* In general, the matrix that constitutes each filter of a given layer is a parameter of the network, that is, it is adjusted together with the weights in order to result in the optimal learning. The number of filters in a given layer is a hyperparameter (must be determined a priori).\n",
    "\n",
    "* Multiple feature maps can be fed to a new convolutional layer, resulting in new maps, as illustrated:\n",
    "\n",
    "<div style=\"text-align:center;\">\n",
    "  <img src=\"https://www.mdpi.com/sensors/sensors-19-01693/article_deploy/html/images/sensors-19-01693-g002-550.jpg\" width=\"400\" height=\"400\" />\n",
    "</div>\n",
    "\n",
    "* Each neuron in an output feature map connects to only a portion of the neurons in the input maps. The portion of the previous layer that connects to a neuron is called its *receptive field*. The following figure illustrates well the concept of a neuron's receptive field:\n",
    "\n",
    "<div style=\"text-align:center;\">\n",
    "  <img src=\"https://upload.wikimedia.org/wikipedia/commons/8/85/Convolution_arithmetic_-_Full_padding_no_strides_transposed.gif\" width=\"200\" height=\"200\" />\n",
    "</div>\n",
    "\n",
    "* The convolution operation makes the output map smaller in shape than the input map. In order to make the shape the same, you can use *padding* strategies. In the following strategy, known as *zero padding* or *same padding*, zeros are added to the edges of the input map so that the output map has the same shape as the input. It is a way to preserve information from the edges along the network.\n",
    "\n",
    "<div style=\"text-align:center;\">\n",
    "  <img src=\"https://upload.wikimedia.org/wikipedia/commons/8/80/Convolution_arithmetic_-_Same_padding_no_strides_transposed.gif\" width=\"200\" height=\"200\" />\n",
    "</div>\n",
    "\n",
    "* If it is desired to generate output maps smaller than the input ones, *strides* can be used. In the following figure, the map is calculated with a stride of 2:\n",
    "\n",
    "<div style=\"text-align:center;\">\n",
    "  <img src=\"https://upload.wikimedia.org/wikipedia/commons/c/c1/Convolution_arithmetic_-_Dilation.gif\" width=\"200\" height=\"200\" />\n",
    "</div>\n",
    "\n",
    "* Another strategy for generating output maps smaller than those of the input is the *expansion*, proposed by [YU and KOLTUN (2015)](https://arxiv.org/abs/1511.07122) and illustrated in the following figure. The advantage of dilation in relation to the stride strategy is the greater coverage of the receptive field of each neuron.\n",
    "\n",
    "<div style=\"text-align:center;\">\n",
    "  <img src=\"https://upload.wikimedia.org/wikipedia/commons/c/c1/Convolution_arithmetic_-_Dilation.gif\" width=\"200\" height=\"200\" />\n",
    "</div>\n",
    "\n",
    "* In addition to the convolutional layer, it is common to add *pooling* layers to the networks. Like convolutional layers, the neurons in pooling layers also have receptive fields, but there are no weights and the operation performed is not the convolution, but some aggregation operation, such as the average or the choice of the maximum value (the latter being the most used):\n",
    "\n",
    "<div style=\"text-align:center;\">\n",
    "  <img src=\"https://www.researchgate.net/publication/333593451/figure/fig2/AS:765890261966848@1559613876098/Illustration-of-Max-Pooling-and-Average-Pooling-Figure-2-above-shows-an-example-of-max.png\" width=\"350\" height=\"350\" />\n",
    "</div>\n",
    "\n",
    "* In general, receptive pooling fields have shape 2x2 and stride 2, as shown above.\n",
    "\n",
    "* The pooling layers reduce the number of network parameters, attenuating overfitting and computational cost. Furthermore, as information is aggregated from larger windows into smaller windows, the receptive fields of deeper layers, even though small, have information related to the entire original image. This makes it possible the recognition of global and more complex/abstract patterns in the deep layers.\n",
    "\n",
    "* The following figure illustrates the typical architecture of a convolutional network:\n",
    "\n",
    "<div style=\"text-align:center;\">\n",
    "  <img src=\"https://www.researchgate.net/publication/336805909/figure/fig1/AS:817888827023360@1572011300751/Schematic-diagram-of-a-basic-convolutional-neural-network-CNN-architecture-26.ppm\" width=\"500\" height=\"500\" />\n",
    "</div>\n",
    "\n",
    "* The first part of the network performs *feature extraction*, that is, it identifies the various patterns present in the image. Typically, several pairs of convolution/pooling layers are used, which defines the depth of the network.\n",
    "\n",
    "* The second part consists of a dense layer (fully connected, as in the MLP network) and is responsible for carrying out the classification.\n",
    "\n",
    "* Some excellent pages for interactive views of convolutional networks are [this](https://www.cs.ryerson.ca/~aharley/vis/conv/) and [this](https://poloclub.github.io/cnn-explainer/).\n",
    "\n",
    "Now we are going to implement an ensemble of convolutional networks in Keras.\n"
   ]
  },
  {
   "cell_type": "markdown",
   "id": "611e6105",
   "metadata": {},
   "source": [
    "# Model Building\n",
    "\n",
    "We will use convolutional neural networks to approach the problem of classifying whether a casting is Defective or OK based on the given image. Almost universally used in computer vision applications, convolutional neural networks (CNN, convnets) is a type of deep-learning model that can look at groups of adjacent pixels in an area of an image and learn to find spatial patterns.\n",
    "\n",
    "<p style=\"text-align:center;\">\n",
    "    <img src=\"https://cezannec.github.io/assets/cnn_intro/CNN_ex.png\" alt=\"CNN architecture\" width=\"500\">\n",
    "</p>\n",
    "<p style=\"text-align:center;font-style:italic\">Image classification with a typical CNN architecture</p>\n",
    "\n",
    "As pictured above, CNN is made up of a number of layers: a series of convolutional layers (with activation), pooling layers, and at least one final fully-connected layer that produces a set of class scores for a given image. The convolutional layers of a CNN act as feature extractors; they extract shape and color patterns from the pixel values of training images.\n",
    "\n",
    "More in-depth explanations of how each CNN layer works can be found on [this awesome blog by Cezanne Camacho](https://cezannec.github.io/Convolutional_Neural_Networks/).\n",
    "\n",
    "The architecture involves stacking convolutional layers with small 3×3 filters followed by a max pooling layer, together forming a block. These blocks can be repeated with increasing number of filters such as 32, 64, 128, 256.\n",
    "\n",
    "Padding is used on the convolutional layers to ensure same height and width between input and output. ReLU activation function is applied on every layer except the last one. Since a binary classification task requires a prediction of either a value of 0 or 1, the output layer is defined with 1 node and a sigmoid activation function."
   ]
  },
  {
   "cell_type": "markdown",
   "id": "0357ae86",
   "metadata": {},
   "source": [
    "<div style=\"border-radius: 10px;\n",
    "            border: 5px solid #b3e0f2; /* Border color - Lighter sky blue */\n",
    "            padding: 20px;\n",
    "            color: #2c3e50; /* Dark grey text color */\n",
    "            margin: 20px; /* Spacing around the div */\n",
    "            font-size: 32px; /* Font size */\n",
    "            font-family: 'Times New Roman', Times, serif; /* Times New Roman font family */\n",
    "            text-align: center;\n",
    "            display: block;\n",
    "            background: linear-gradient(to right, #d9efff, #b3e0f2); /* Gradient background - Lighter sky blue to darker sky blue */\n",
    "            overflow: hidden;\n",
    "            box-shadow: 0 8px 16px rgba(0, 0, 0, 0.5); /* Soft shadow at the bottom */\n",
    "            \">\n",
    "    <span style=\"font-size: 36px; margin-right: 10px;\">🎭</span> <!-- Happy face emoji -->\n",
    "    <b>Data Preparation and Preprocessing for CNN Used</b>\n",
    "    <span style=\"font-size: 36px; margin-left: 10px;\">🎭</span> <!-- Sad face emoji -->\n",
    "</div>"
   ]
  },
  {
   "cell_type": "code",
   "execution_count": 11,
   "id": "f61f0bb8",
   "metadata": {},
   "outputs": [],
   "source": [
    "folder_path = 'C:\\\\Users\\\\ASUS\\\\OneDrive\\\\Desktop\\\\Python\\\\NN\\\\new emotions\\\\images\\\\'"
   ]
  },
  {
   "cell_type": "code",
   "execution_count": 12,
   "id": "a928bc72",
   "metadata": {},
   "outputs": [
    {
     "data": {
      "image/png": "[encoded data removed]",
      "text/plain": [
       "<Figure size 1200x1200 with 9 Axes>"
      ]
     },
     "metadata": {},
     "output_type": "display_data"
    }
   ],
   "source": [
    "expression = 'happy' \n",
    "train_path = os.path.join(folder_path, \"train\", expression)\n",
    "\n",
    "plt.figure(figsize=(12, 12))\n",
    "for i in range(1, 10, 1):\n",
    "    plt.subplot(3, 3, i)\n",
    "    img_path = os.path.join(train_path, os.listdir(train_path)[i])\n",
    "    img = load_img(img_path, target_size=(48,48))\n",
    "    plt.imshow(img)\n",
    "    plt.axis('off')\n",
    "plt.show()\n",
    "  "
   ]
  },
  {
   "cell_type": "code",
   "execution_count": 13,
   "id": "9de8a801",
   "metadata": {},
   "outputs": [
    {
     "name": "stdout",
     "output_type": "stream",
     "text": [
      "Found 13676 images belonging to 2 classes.\n"
     ]
    }
   ],
   "source": [
    "train_generator = ImageDataGenerator()\n",
    "validation_data_gen=ImageDataGenerator()\n",
    "\n",
    "train_generator = train_generator.flow_from_directory(folder_path+\"train\",\n",
    "     target_size=(48, 48),\n",
    "      batch_size=48,\n",
    "      color_mode=\"grayscale\",\n",
    "      class_mode=\"categorical\",\n",
    "      shuffle=True                                                \n",
    ")"
   ]
  },
  {
   "cell_type": "code",
   "execution_count": 14,
   "id": "e0df68b6",
   "metadata": {},
   "outputs": [
    {
     "name": "stdout",
     "output_type": "stream",
     "text": [
      "Found 2960 images belonging to 2 classes.\n"
     ]
    }
   ],
   "source": [
    "validation_generator = validation_data_gen.flow_from_directory(folder_path+\"validation\",\n",
    "    target_size=(48, 48),\n",
    "    batch_size=48,\n",
    "    color_mode=\"grayscale\",\n",
    "    class_mode=\"categorical\",\n",
    "    shuffle=False                                                            \n",
    ")"
   ]
  },
  {
   "cell_type": "code",
   "execution_count": 15,
   "id": "b8853702",
   "metadata": {},
   "outputs": [],
   "source": [
    "emotional_model= Sequential()\n",
    "\n",
    "# 1st CNN layer\n",
    "emotional_model.add(Conv2D(64, kernel_size=(3, 3),padding=\"same\",activation='relu',input_shape=(48, 48, 1)))\n",
    "emotional_model.add(BatchNormalization()) \n",
    "emotional_model.add(MaxPooling2D(pool_size=(2, 2)))\n",
    "emotional_model.add(Dropout(0.25))\n",
    "\n",
    "# 2nd CNN layer\n",
    "emotional_model.add(Conv2D(128, kernel_size=(3, 3),activation='relu',padding=\"same\"))\n",
    "emotional_model.add(BatchNormalization()) \n",
    "emotional_model.add(MaxPooling2D(pool_size=(2, 2)))\n",
    "emotional_model.add(Dropout(0.25))\n",
    "                    \n",
    "# 3rd CNN layer\n",
    "emotional_model.add(Conv2D(512, kernel_size=(3, 3),activation='relu',padding=\"same\"))\n",
    "emotional_model.add(BatchNormalization()) \n",
    "emotional_model.add(MaxPooling2D(pool_size=(2, 2)))\n",
    "emotional_model.add(Dropout(0.25))\n",
    "                    \n",
    "# # 4th CNN layer\n",
    "# emotional_model.add(Conv2D(512, kernel_size=(3, 3),activation='relu',padding=\"same\"))\n",
    "# emotional_model.add(BatchNormalization()) \n",
    "# emotional_model.add(MaxPooling2D(pool_size=(2, 2)))\n",
    "# emotional_model.add(Dropout(0.25))\n",
    "                    \n",
    "emotional_model.add(Flatten())\n",
    "                    \n",
    "# # Fully connected 1st layer\n",
    "# emotional_model.add(Dense(256,activation='relu'))\n",
    "# emotional_model.add(BatchNormalization())  \n",
    "# emotional_model.add(Dropout(0.25)) \n",
    "                    \n",
    "# Fully connected 2st layer                  \n",
    "emotional_model.add(Dense(512,activation='relu'))\n",
    "emotional_model.add(BatchNormalization()) \n",
    "emotional_model.add(Dropout(0.25))\n",
    "emotional_model.add(Dense(2, activation='softmax'))\n",
    "\n",
    "emotional_model.compile(loss=\"categorical_crossentropy\",optimizer=Adam(learning_rate=0.0001),metrics=[\"accuracy\"])"
   ]
  },
  {
   "cell_type": "code",
   "execution_count": 16,
   "id": "72d054ef",
   "metadata": {},
   "outputs": [],
   "source": [
    "from keras.callbacks import ModelCheckpoint, EarlyStopping, ReduceLROnPlateau\n",
    "\n",
    "# to stop the overfitting\n",
    "checkpoint = ModelCheckpoint(\"Emotion_Detection_Project_CP2.keras\", monitor=\"val_acc\", verbose=1, save_best_only=True, mode=\"max\")\n",
    "\n",
    "early_stopping = EarlyStopping(\n",
    "    monitor=\"val_loss\",\n",
    "    min_delta=0,\n",
    "    patience=3,\n",
    "    verbose=1,\n",
    "    restore_best_weights=True\n",
    ")\n",
    "\n",
    "reduce_learningrate = ReduceLROnPlateau(\n",
    "    monitor=\"val_loss\",\n",
    "    factor=0.2,\n",
    "    patience=3,\n",
    "    verbose=1,\n",
    "    min_delta=0.0001\n",
    ")\n",
    "callback_list=[early_stopping,checkpoint,reduce_learningrate]\n"
   ]
  },
  {
   "cell_type": "markdown",
   "id": "c28722d8",
   "metadata": {},
   "source": [
    "<div style=\"border-radius: 10px;\n",
    "            border: 5px solid #b3e0f2; /* Border color - Lighter sky blue */\n",
    "            padding: 20px;\n",
    "            color: #2c3e50; /* Dark grey text color */\n",
    "            margin: 20px; /* Spacing around the div */\n",
    "            font-size: 32px; /* Font size */\n",
    "            font-family: 'Times New Roman', Times, serif; /* Times New Roman font family */\n",
    "            text-align: center;\n",
    "            display: block;\n",
    "            background: linear-gradient(to right, #d9efff, #b3e0f2); /* Gradient background - Lighter sky blue to darker sky blue */\n",
    "            overflow: hidden;\n",
    "            box-shadow: 0 8px 16px rgba(0, 0, 0, 0.5); /* Soft shadow at the bottom */\n",
    "            \">\n",
    "    <span style=\"font-size: 36px; margin-right: 10px;\">🎭</span> <!-- Happy face emoji -->\n",
    "    <b> Model Training using CNN </b>\n",
    "    <span style=\"font-size: 36px; margin-left: 10px;\">🎭</span> <!-- Sad face emoji -->\n",
    "</div>"
   ]
  },
  {
   "cell_type": "code",
   "execution_count": 17,
   "id": "1d0e9206",
   "metadata": {},
   "outputs": [],
   "source": [
    "# emotional_model_info = emotional_model.fit(train_generator,\n",
    "#              steps_per_epoch=train_generator.samples// train_generator.batch_size,\n",
    "#              epochs=15, \n",
    "#              validation_data=validation_generator,\n",
    "#              validation_steps=validation_generator.samples // validation_generator.batch_size,\n",
    "#              callbacks=callback_list\n",
    "# )"
   ]
  },
  {
   "cell_type": "code",
   "execution_count": 18,
   "id": "98150ebc-4973-455a-a890-65399108d85e",
   "metadata": {},
   "outputs": [
    {
     "name": "stdout",
     "output_type": "stream",
     "text": [
      "Epoch 1/10\n",
      "285/285 [==============================] - 216s 740ms/step - loss: 0.6335 - accuracy: 0.7179 - val_loss: 0.4903 - val_accuracy: 0.7615\n",
      "Epoch 2/10\n",
      "285/285 [==============================] - 124s 434ms/step - loss: 0.4216 - accuracy: 0.8062 - val_loss: 0.5427 - val_accuracy: 0.7578\n",
      "Epoch 3/10\n",
      "285/285 [==============================] - 109s 384ms/step - loss: 0.3412 - accuracy: 0.8445 - val_loss: 0.4348 - val_accuracy: 0.7993\n",
      "Epoch 4/10\n",
      "285/285 [==============================] - 111s 388ms/step - loss: 0.3003 - accuracy: 0.8674 - val_loss: 0.3469 - val_accuracy: 0.8493\n",
      "Epoch 5/10\n",
      "285/285 [==============================] - 102s 356ms/step - loss: 0.2530 - accuracy: 0.8886 - val_loss: 0.4968 - val_accuracy: 0.7713\n",
      "Epoch 6/10\n",
      "285/285 [==============================] - 104s 366ms/step - loss: 0.2383 - accuracy: 0.8985 - val_loss: 0.3639 - val_accuracy: 0.8456\n",
      "Epoch 7/10\n",
      "285/285 [==============================] - 100s 352ms/step - loss: 0.2406 - accuracy: 0.8978 - val_loss: 0.4450 - val_accuracy: 0.8088\n",
      "Epoch 8/10\n",
      "285/285 [==============================] - 105s 369ms/step - loss: 0.2272 - accuracy: 0.9031 - val_loss: 0.3172 - val_accuracy: 0.8639\n",
      "Epoch 9/10\n",
      "285/285 [==============================] - 105s 366ms/step - loss: 0.2064 - accuracy: 0.9125 - val_loss: 0.3256 - val_accuracy: 0.8659\n",
      "Epoch 10/10\n",
      "285/285 [==============================] - 104s 365ms/step - loss: 0.1811 - accuracy: 0.9248 - val_loss: 0.3254 - val_accuracy: 0.8649\n"
     ]
    },
    {
     "data": {
      "text/plain": [
       "<tf_keras.src.callbacks.History at 0x1c0fa8d1af0>"
      ]
     },
     "execution_count": 18,
     "metadata": {},
     "output_type": "execute_result"
    }
   ],
   "source": [
    "from sklearn.utils.class_weight import compute_class_weight\n",
    "\n",
    "# Assuming you have a list of classes and their corresponding labels\n",
    "class_weights = compute_class_weight('balanced', classes=np.unique(validation_generator.classes), y=validation_generator.classes)\n",
    "class_weights = dict(enumerate(class_weights))\n",
    "\n",
    "# Now, use these class weights when compiling and training the model\n",
    "emotional_model.compile(optimizer='adam', loss='categorical_crossentropy', metrics=['accuracy'])\n",
    "emotional_model.fit(train_generator, validation_data=validation_generator, class_weight=class_weights, epochs=10)\n"
   ]
  },
  {
   "cell_type": "markdown",
   "id": "4b9678bc",
   "metadata": {},
   "source": [
    "<div style=\"border-radius: 10px;\n",
    "            border: 5px solid #b3e0f2; /* Border color - Lighter sky blue */\n",
    "            padding: 20px;\n",
    "            color: #2c3e50; /* Dark grey text color */\n",
    "            margin: 20px; /* Spacing around the div */\n",
    "            font-size: 32px; /* Font size */\n",
    "            font-family: 'Times New Roman', Times, serif; /* Times New Roman font family */\n",
    "            text-align: center;\n",
    "            display: block;\n",
    "            background: linear-gradient(to right, #d9efff, #b3e0f2); /* Gradient background - Lighter sky blue to darker sky blue */\n",
    "            overflow: hidden;\n",
    "            box-shadow: 0 8px 16px rgba(0, 0, 0, 0.5); /* Soft shadow at the bottom */\n",
    "            \">\n",
    "    <span style=\"font-size: 36px; margin-right: 10px;\">🎭</span> <!-- Happy face emoji -->\n",
    "    <b> Predicting CNN Model </b>\n",
    "    <span style=\"font-size: 36px; margin-left: 10px;\">🎭</span> <!-- Sad face emoji -->\n",
    "</div>"
   ]
  },
  {
   "cell_type": "code",
   "execution_count": 19,
   "id": "2355a7e1",
   "metadata": {},
   "outputs": [],
   "source": [
    "# Y_pred = emotional_model.predict(validation_generator)\n",
    "# y_pred = np.argmax(Y_pred, axis=1)\n",
    "# class_labels = list(validation_generator.class_indices.keys())"
   ]
  },
  {
   "cell_type": "code",
   "execution_count": 20,
   "id": "1fa7b216-b441-47e8-b9f6-a5d97df9324a",
   "metadata": {},
   "outputs": [
    {
     "name": "stdout",
     "output_type": "stream",
     "text": [
      "62/62 [==============================] - 6s 95ms/step\n"
     ]
    }
   ],
   "source": [
    "Y_pred = emotional_model.predict(validation_generator)\n",
    "\n",
    "threshold = 0.75\n",
    "y_pred = []\n",
    "\n",
    "for pred in Y_pred:\n",
    "    if pred[0] >= threshold:  # Assuming index 0 corresponds to \"happy\"\n",
    "        y_pred.append(0)  # Predict \"happy\"\n",
    "    else:\n",
    "        y_pred.append(1)  # Predict \"sad\"\n",
    "\n",
    "class_labels = list(validation_generator.class_indices.keys())\n",
    "predicted_labels = [class_labels[i] for i in y_pred]\n"
   ]
  },
  {
   "cell_type": "code",
   "execution_count": 22,
   "id": "c1e97ee9",
   "metadata": {},
   "outputs": [
    {
     "name": "stdout",
     "output_type": "stream",
     "text": [
      "Confusion Matrix:\n",
      "[[1370  451]\n",
      " [  64 1075]]\n"
     ]
    }
   ],
   "source": [
    "# Confusion Matrix\n",
    "\n",
    "conf_matrix = confusion_matrix(validation_generator.classes, y_pred)\n",
    "print(\"Confusion Matrix:\")\n",
    "print(conf_matrix)"
   ]
  },
  {
   "cell_type": "code",
   "execution_count": 23,
   "id": "0293a54b",
   "metadata": {},
   "outputs": [
    {
     "name": "stdout",
     "output_type": "stream",
     "text": [
      "\n",
      "Classification Report:\n",
      "              precision    recall  f1-score   support\n",
      "\n",
      "       happy       0.96      0.75      0.84      1821\n",
      "         sad       0.70      0.94      0.81      1139\n",
      "\n",
      "    accuracy                           0.83      2960\n",
      "   macro avg       0.83      0.85      0.82      2960\n",
      "weighted avg       0.86      0.83      0.83      2960\n",
      "\n"
     ]
    }
   ],
   "source": [
    "# Classification Report\n",
    "\n",
    "class_report = classification_report(validation_generator.classes, y_pred, target_names=class_labels)\n",
    "print(\"\\nClassification Report:\")\n",
    "print(class_report)"
   ]
  },
  {
   "cell_type": "markdown",
   "id": "14afbab6",
   "metadata": {},
   "source": [
    "<div style=\"border-radius:10px; border:#808080 solid; padding: 15px; background-color: ##F0E68C ; font-size:100%; text-align:left\">\n",
    "\n",
    "<h3 align=\"left\"><font color=brown>💬 Inference:</font></h3>\n",
    "\n",
    "The model performs relatively well in identifying the emotions of happy and neutral, achieving higher precision and recall compared to other emotions. However, it struggles with emotions like disgust and surprise, where precision and recall scores are notably lower (0%). This indicates challenges in accurately identifying these emotions with the current model."
   ]
  },
  {
   "cell_type": "markdown",
   "id": "da2da117",
   "metadata": {},
   "source": [
    "<div style=\"border-radius: 10px;\n",
    "            border: 5px solid #b3e0f2; /* Border color - Lighter sky blue */\n",
    "            padding: 20px;\n",
    "            color: #2c3e50; /* Dark grey text color */\n",
    "            margin: 20px; /* Spacing around the div */\n",
    "            font-size: 32px; /* Font size */\n",
    "            font-family: 'Times New Roman', Times, serif; /* Times New Roman font family */\n",
    "            text-align: center;\n",
    "            display: block;\n",
    "            background: linear-gradient(to right, #d9efff, #b3e0f2); /* Gradient background - Lighter sky blue to darker sky blue */\n",
    "            overflow: hidden;\n",
    "            box-shadow: 0 8px 16px rgba(0, 0, 0, 0.5); /* Soft shadow at the bottom */\n",
    "            \">\n",
    "    <span style=\"font-size: 36px; margin-right: 10px;\">🎭</span> <!-- Happy face emoji -->\n",
    "    <b> Saved CNN Model</b>\n",
    "    <span style=\"font-size: 36px; margin-left: 10px;\">🎭</span> <!-- Sad face emoji -->\n",
    "</div>"
   ]
  },
  {
   "cell_type": "code",
   "execution_count": 24,
   "id": "2e8c65c5",
   "metadata": {},
   "outputs": [],
   "source": [
    "emotional_model.save(\"Emotion_Detection_Project_CP2.h5\")"
   ]
  },
  {
   "cell_type": "code",
   "execution_count": 25,
   "id": "d6570386",
   "metadata": {},
   "outputs": [],
   "source": [
    "model= load_model(\"Emotion_Detection_Project_CP2.h5\")"
   ]
  },
  {
   "cell_type": "markdown",
   "id": "0cac3430",
   "metadata": {},
   "source": [
    " <div style=\"border-radius: 10px;\n",
    "            border: 5px solid #b3e0f2; /* Border color - Lighter sky blue */\n",
    "            padding: 20px;\n",
    "            color: #2c3e50; /* Dark grey text color */\n",
    "            margin: 20px; /* Spacing around the div */\n",
    "            font-size: 32px; /* Font size */\n",
    "            font-family: 'Times New Roman', Times, serif; /* Times New Roman font family */\n",
    "            text-align: center;\n",
    "            display: block;\n",
    "            background: linear-gradient(to right, #d9efff, #b3e0f2); /* Gradient background - Lighter sky blue to darker sky blue */\n",
    "            overflow: hidden;\n",
    "            box-shadow: 0 8px 16px rgba(0, 0, 0, 0.5); /* Soft shadow at the bottom */\n",
    "            \">\n",
    "    <span style=\"font-size: 36px; margin-right: 10px;\">🎭</span> <!-- Happy face emoji -->\n",
    "    <b> OpenCV (Open Source Computer Vision Library)</b>\n",
    "    <span style=\"font-size: 36px; margin-left: 10px;\">🎭</span> <!-- Sad face emoji -->\n",
    "</div>\n"
   ]
  },
  {
   "cell_type": "markdown",
   "id": "75a8dc93",
   "metadata": {},
   "source": [
    "# Open CV\n",
    "[OpenCV (Open Source Computer Vision Library)](https://en.wikipedia.org/wiki/OpenCV) is a library of programming functions mainly for real-time computer vision. Originally developed by Intel, it was later supported by Willow Garage, then Itseez (which was later acquired by Intel). The library is cross-platform and licensed as free and open-source software under Apache License 2. Starting in 2011, OpenCV features GPU acceleration for real-time operations.\n",
    "\n",
    "<div style=\"text-align: center;\">\n",
    "<img src=\"https://media.giphy.com/media/3o7abnQiguzMTaYlOM/giphy.gif\" width=\"300\" height=\"300\"/>\n",
    "\n",
    "## Object detection using OpenCV\n",
    "The GIF demonstrates object detection using OpenCV, showing how it detects various objects within a video stream or image. It highlights the process of loading, preprocessing, and detecting objects using techniques like Haar Cascades or deep learning models (like YOLO or SSD), and visualizing the detected objects with bounding boxes. This capability is crucial for real-time applications such as surveillance, autonomous systems, and augmented reality, where accurate object detection and tracking are essential.\n",
    "\n",
    "<div style=\"text-align: center;\">\n",
    "<img src=\"https://cdn.analyticsvidhya.com/wp-content/uploads/2020/04/obj_detection.gif\n",
    "\" width=\"400\" height=\"400\"/>\n",
    "\n",
    "## Face scanning\n",
    "OpenCV (Open Source Computer Vision Library) is a powerful tool for computer vision tasks, including face scanning. It uses algorithms like Haar Cascade Classifiers for face detection, which involves analyzing images at various scales to identify features typical of a face, such as edges and gradients. Once detected, OpenCV can also perform face recognition using methods like LBPH, Eigenfaces, or Fisherfaces, allowing for identification based on facial features. This capability finds applications in security systems, surveillance, photo tagging, and interactive interfaces.\n",
    "\n",
    "<div style=\"text-align: center;\">\n",
    "<img src=\"https://th.bing.com/th/id/R.d07e3deaac230cbfd9cac98e6f189486?rik=5B3JU0ARumYxNQ&riu=http%3a%2f%2fi.dongtaituku.com%2fre%2f1%2f5b0988e595225.cdn.sohucs.com%2fimages%2f20180925%2fad6f7c07dd304822aaee1526cc94fc0d.gif&ehk=zEaMN9%2ffte9JJbvncTS8%2fTxVOBIMZsUxijSPwOMhi4c%3d&risl=&pid=ImgRaw&r=0\" width=\"350\" height=\"350\"/>"
   ]
  },
  {
   "cell_type": "markdown",
   "id": "57bd733f",
   "metadata": {},
   "source": [
    "<div style=\"border-radius: 10px;\n",
    "            border: 5px solid #b3e0f2; /* Border color - Lighter sky blue */\n",
    "            padding: 20px;\n",
    "            color: #2c3e50; /* Dark grey text color */\n",
    "            margin: 40px; /* Increased spacing around the div */\n",
    "            font-size: 32px; /* Font size */\n",
    "            font-family: 'Times New Roman', Times, serif; /* Times New Roman font family */\n",
    "            text-align: center;\n",
    "            display: block;\n",
    "            background: linear-gradient(to right, #d9efff, #b3e0f2); /* Gradient background - Lighter sky blue to darker sky blue */\n",
    "            overflow: hidden;\n",
    "            box-shadow: 0 8px 16px rgba(0, 0, 0, 0.5); /* Soft shadow at the bottom */\n",
    "            \">\n",
    "    <span style=\"font-size: 36px; margin-right: 10px;\">🎭</span> <!-- Happy face emoji -->\n",
    "    <b> Real-Time Emotion Detection using OpenCV</b>\n",
    "    <span style=\"font-size: 36px; margin-left: 10px;\">🎭</span> <!-- Sad face emoji -->\n",
    "</div>\n"
   ]
  },
  {
   "cell_type": "code",
   "execution_count": 1,
   "id": "8dcf155a-0aed-4f91-accc-04aef4df8c6c",
   "metadata": {},
   "outputs": [
    {
     "name": "stdout",
     "output_type": "stream",
     "text": [
      "WARNING:tensorflow:From C:\\Users\\ASUS\\anaconda3\\Lib\\site-packages\\tf_keras\\src\\losses.py:2976: The name tf.losses.sparse_softmax_cross_entropy is deprecated. Please use tf.compat.v1.losses.sparse_softmax_cross_entropy instead.\n",
      "\n"
     ]
    }
   ],
   "source": [
    "# TO READ IMAGE\n",
    "\n",
    "import cv2\n",
    "from deepface import DeepFace\n",
    "\n",
    "# Load the pre-trained face detection model\n",
    "face_cascade = cv2.CascadeClassifier(r\"D:\\haarcascade_frontalface_default.xml\")\n",
    "\n",
    "# Load the image where emotions need to be detected\n",
    "image_path = r\"C:\\Users\\ASUS\\OneDrive\\Desktop\\sad.jpeg\"\n",
    "frame = cv2.imread(image_path)\n",
    "\n",
    "# Resize the frame to 640x480 for faster processing\n",
    "frame = cv2.resize(frame, (640, 480))\n",
    "\n",
    "# Convert the frame to grayscale for face detection\n",
    "gray = cv2.cvtColor(frame, cv2.COLOR_BGR2GRAY)\n",
    "\n",
    "# Detect faces in the grayscale frame\n",
    "faces = face_cascade.detectMultiScale(gray, scaleFactor=1.2, minNeighbors=3)\n",
    "\n",
    "# Analyze the image for emotions using DeepFace with a faster backend\n",
    "for (x, y, w, h) in faces:\n",
    "    # Extract the face region\n",
    "    face_roi = frame[y:y+h, x:x+w]\n",
    "    \n",
    "    # Analyze the face for emotions\n",
    "    result = DeepFace.analyze(face_roi, actions=[\"emotion\"], detector_backend=\"opencv\", enforce_detection=False)\n",
    "    \n",
    "    # If result is a list (for multiple faces), extract the first face's result\n",
    "    if isinstance(result, list) and len(result) > 0:\n",
    "        result = result[0]\n",
    "    \n",
    "    # Store the dominant emotion from the analysis\n",
    "    emotion = result['dominant_emotion']\n",
    "    \n",
    "    # Draw a rectangle around the face\n",
    "    cv2.rectangle(frame, (x, y), (x+w, y+h), (0, 255, 0), 2)\n",
    "    \n",
    "    # Display the dominant emotion above the rectangle\n",
    "    cv2.putText(frame, emotion, (x, y-10), cv2.FONT_HERSHEY_SIMPLEX, 0.9, (0, 0, 255), 2, cv2.LINE_AA)\n",
    "\n",
    "cv2.imshow(\"Emotion Detection\", frame)\n",
    "\n",
    "cv2.waitKey(0)\n",
    "cv2.destroyAllWindows()\n"
   ]
  },
  {
   "cell_type": "code",
   "execution_count": 2,
   "id": "9951a277",
   "metadata": {},
   "outputs": [],
   "source": [
    "#TO OPEN CAMERA\n",
    "\n",
    "face_cascade = cv2.CascadeClassifier(r\"D:\\haarcascade_frontalface_default.xml\")\n",
    "\n",
    "cap = cv2.VideoCapture(1)\n",
    "\n",
    "if not cap.isOpened():\n",
    "    cap = cv2.VideoCapture(0)\n",
    "if not cap.isOpened():\n",
    "    raise IOError(\"Cannot open webcam\")\n",
    "\n",
    "frame_count = 0  # Initialize a frame counter\n",
    "\n",
    "while True:\n",
    "    ret, frame = cap.read()\n",
    "    \n",
    "    frame = cv2.resize(frame, (640, 480))\n",
    "\n",
    "    # Process every 5th frame to reduce lag\n",
    "    if frame_count % 5 == 0:\n",
    "        # Analyze the frame for emotions using DeepFace with a faster backend\n",
    "        result = DeepFace.analyze(frame, actions=[\"emotion\"], detector_backend=\"opencv\", enforce_detection=False)\n",
    "        \n",
    "        # If result is a list (for multiple faces), extract the first face's result\n",
    "        if isinstance(result, list) and len(result) > 0:\n",
    "            result = result[0]\n",
    "        \n",
    "        # Store the dominant emotion from the analysis\n",
    "        emotion = result['dominant_emotion']\n",
    "    \n",
    "    # Convert the frame to grayscale for face detection\n",
    "    gray = cv2.cvtColor(frame, cv2.COLOR_BGR2GRAY)\n",
    "    \n",
    "    # Detect faces in the grayscale frame with optimized parameters\n",
    "    faces = face_cascade.detectMultiScale(gray, scaleFactor=1.2, minNeighbors=3)\n",
    "    \n",
    "    # Draw rectangles around detected faces and add emotion text\n",
    "    for (x, y, w, h) in faces:\n",
    "        cv2.rectangle(frame, (x, y), (x+w, y+h), (0, 255, 0), 2)\n",
    "\n",
    "    # Display the dominant emotion on the frame\n",
    "    cv2.putText(frame, emotion, (50, 50), cv2.FONT_HERSHEY_SIMPLEX, 3, (0, 0, 225), 2, cv2.LINE_4)\n",
    "    \n",
    "    cv2.imshow(\" Face Emotions Detection video\", frame)\n",
    "    \n",
    "    if cv2.waitKey(2) & 0xFF == ord('q'):\n",
    "        break\n",
    "    \n",
    "    frame_count += 1  # Increment the frame counter\n",
    "\n",
    "cap.release()\n",
    "cv2.destroyAllWindows()\n"
   ]
  },
  {
   "cell_type": "markdown",
   "id": "1a979594",
   "metadata": {},
   "source": [
    "<div style=\"border-radius: 10px;\n",
    "            border: 5px solid #b3e0f2; /* Border color - Lighter sky blue */\n",
    "            padding: 20px;\n",
    "            color: #2c3e50; /* Dark grey text color */\n",
    "            margin: 20px; /* Spacing around the div */\n",
    "            font-size: 32px; /* Font size */\n",
    "            font-family: 'Times New Roman', Times, serif; /* Times New Roman font family */\n",
    "            text-align: center;\n",
    "            display: block;\n",
    "            background: linear-gradient(to right, #d9efff, #b3e0f2); /* Gradient background - Lighter sky blue to darker sky blue */\n",
    "            overflow: hidden;\n",
    "            box-shadow: 0 8px 16px rgba(0, 0, 0, 0.5); /* Soft shadow at the bottom */\n",
    "            \">\n",
    "    <span style=\"font-size: 36px; margin-right: 10px;\">🎭</span> <!-- Happy face emoji -->\n",
    "    <b>Conclusion</b>\n",
    "    <span style=\"font-size: 36px; margin-left: 10px;\">🎭</span> <!-- Sad face emoji -->\n",
    "</div>"
   ]
  },
  {
   "cell_type": "markdown",
   "id": "21470466",
   "metadata": {},
   "source": [
    "1. **Model Performance**:\n",
    "- The CNN model shows varied performance across different emotions, as seen in each class's precision, recall, and F1 scores. \n",
    "- Notably, emotions like 'happy' demonstrate higher precision and recall, suggesting the model's proficiency in identifying this emotion from facial expressions.\n",
    "- Emotions exhibited lower precision and recall, indicating challenges in accurately detecting these emotions.\n",
    "- The overall accuracy of the emotion detection model is % 83 (replace with actual accuracy), reflecting its capability to discern emotional states from facial images despite varying complexities across different emotions.\n",
    "\n",
    "2. **Real-Time Implementation**: \n",
    "- The real-time emotion detection implementation using openCV and the trained CNN model showcases a practical application of the developed model.\n",
    "- The system accurately detects facial expressions in live video streams and provides real-time analysis of emotions displayed.\n",
    "- This capability demonstrates the potential for real-world deployment of the developed solution in applications such as human-computer interaction, sentiment analysis, and emotion-aware systems in diverse settings.\n",
    "\n",
    "3. **Business Implications**:\n",
    "- Operational Efficiency: CNNs integrated with OpenCV automate tasks like quality control in manufacturing, reducing costs and improving accuracy.\n",
    "- **Customer Engagement**: These technologies enhance customer experience through personalized recommendations and visual search, boosting satisfaction and sales.\n",
    "- **Safety and Compliance**: They ensure public safety and regulatory compliance through applications like surveillance and real-time monitoring.\n"
   ]
  },
  {
   "cell_type": "markdown",
   "id": "14a33d99",
   "metadata": {},
   "source": [
    "<center> <img src=\"https://media2.giphy.com/media/7JsAH5KnUjbYzimP1X/source.gif\" style='width: 500px; height: 300px;'>"
   ]
  }
 ],
 "metadata": {
  "kernelspec": {
   "display_name": "Python 3 (ipykernel)",
   "language": "python",
   "name": "python3"
  },
  "language_info": {
   "codemirror_mode": {
    "name": "ipython",
    "version": 3
   },
   "file_extension": ".py",
   "mimetype": "text/x-python",
   "name": "python",
   "nbconvert_exporter": "python",
   "pygments_lexer": "ipython3",
   "version": "3.12.4"
  }
 },
 "nbformat": 4,
 "nbformat_minor": 5
}
